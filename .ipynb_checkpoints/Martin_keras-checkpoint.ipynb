{
 "cells": [
  {
   "cell_type": "code",
   "execution_count": 1,
   "metadata": {},
   "outputs": [
    {
     "name": "stderr",
     "output_type": "stream",
     "text": [
      "/usr/local/lib/python3.5/dist-packages/h5py/__init__.py:36: FutureWarning: Conversion of the second argument of issubdtype from `float` to `np.floating` is deprecated. In future, it will be treated as `np.float64 == np.dtype(float).type`.\n",
      "  from ._conv import register_converters as _register_converters\n"
     ]
    }
   ],
   "source": [
    "from __future__ import print_function\n",
    "import tensorflow as tf\n",
    "from tensorflow import keras\n",
    "from sklearn.preprocessing import OneHotEncoder\n",
    "from tensorflow.keras.layers import Dense, Activation, Dropout\n",
    "from tensorflow.keras.preprocessing import sequence\n",
    "from tensorflow.keras.models import Model, load_model, model_from_json\n",
    "from tensorflow.keras.layers import Dense, Embedding, Bidirectional, Input, TimeDistributed\n",
    "from tensorflow.keras.layers import LSTM\n",
    "from tensorflow.keras.callbacks import EarlyStopping, ModelCheckpoint, ReduceLROnPlateau\n",
    "from tensorflow.keras import optimizers\n",
    "import pandas as pd\n",
    "from sklearn.metrics import r2_score\n",
    "import numpy as np\n",
    "import sys\n",
    "import h5py\n",
    "import pickle\n",
    "import os"
   ]
  },
  {
   "cell_type": "code",
   "execution_count": 2,
   "metadata": {
    "collapsed": true
   },
   "outputs": [],
   "source": [
    "#parameters\n",
    "maxlen = 30\n",
    "labels = 2"
   ]
  },
  {
   "cell_type": "code",
   "execution_count": 3,
   "metadata": {},
   "outputs": [],
   "source": [
    "czech = pd.read_excel('czech.xlsx', encoding='latin',header = None)\n",
    "czech.columns = ['Name', 'male_or_female']\n",
    "czech['namelen'] = [len(str(i)) for i in czech['Name']]\n"
   ]
  },
  {
   "cell_type": "code",
   "execution_count": 4,
   "metadata": {},
   "outputs": [
    {
     "data": {
      "text/html": [
       "<div>\n",
       "<style scoped>\n",
       "    .dataframe tbody tr th:only-of-type {\n",
       "        vertical-align: middle;\n",
       "    }\n",
       "\n",
       "    .dataframe tbody tr th {\n",
       "        vertical-align: top;\n",
       "    }\n",
       "\n",
       "    .dataframe thead th {\n",
       "        text-align: right;\n",
       "    }\n",
       "</style>\n",
       "<table border=\"1\" class=\"dataframe\">\n",
       "  <thead>\n",
       "    <tr style=\"text-align: right;\">\n",
       "      <th></th>\n",
       "      <th>Name</th>\n",
       "      <th>male_or_female</th>\n",
       "      <th>namelen</th>\n",
       "    </tr>\n",
       "  </thead>\n",
       "  <tbody>\n",
       "    <tr>\n",
       "      <th>0</th>\n",
       "      <td>Abigail</td>\n",
       "      <td>f</td>\n",
       "      <td>7</td>\n",
       "    </tr>\n",
       "    <tr>\n",
       "      <th>1</th>\n",
       "      <td>Ada</td>\n",
       "      <td>f</td>\n",
       "      <td>3</td>\n",
       "    </tr>\n",
       "    <tr>\n",
       "      <th>2</th>\n",
       "      <td>Adalberta</td>\n",
       "      <td>f</td>\n",
       "      <td>9</td>\n",
       "    </tr>\n",
       "    <tr>\n",
       "      <th>3</th>\n",
       "      <td>Adéla</td>\n",
       "      <td>f</td>\n",
       "      <td>5</td>\n",
       "    </tr>\n",
       "    <tr>\n",
       "      <th>4</th>\n",
       "      <td>Adelaida</td>\n",
       "      <td>f</td>\n",
       "      <td>8</td>\n",
       "    </tr>\n",
       "  </tbody>\n",
       "</table>\n",
       "</div>"
      ],
      "text/plain": [
       "        Name male_or_female  namelen\n",
       "0    Abigail              f        7\n",
       "1        Ada              f        3\n",
       "2  Adalberta              f        9\n",
       "3      Adéla              f        5\n",
       "4   Adelaida              f        8"
      ]
     },
     "execution_count": 4,
     "metadata": {},
     "output_type": "execute_result"
    }
   ],
   "source": [
    "cname = czech['Name']\n",
    "collect = []\n",
    "\n",
    "\n",
    "for i in range(len(cname)):\n",
    "    collect.extend(list(str(cname[i]).lower()))\n",
    "# collect.extend(['END'])\n",
    "collect = set(collect)\n",
    "\n",
    "czech.head()"
   ]
  },
  {
   "cell_type": "code",
   "execution_count": 5,
   "metadata": {},
   "outputs": [],
   "source": [
    "data_set = pd.read_csv(\"gender_data.csv\",header=None)\n",
    "data_set.columns = ['name','male_or_female']\n",
    "data_set['namelen']= [len(str(i)) for i in data_set['name']]\n",
    "data_set1 = data_set[(data_set['namelen'] >= 2) ]"
   ]
  },
  {
   "cell_type": "code",
   "execution_count": 6,
   "metadata": {
    "scrolled": true
   },
   "outputs": [
    {
     "data": {
      "text/plain": [
       "male_or_female\n",
       "f    6705\n",
       "m    8475\n",
       "Name: name, dtype: int64"
      ]
     },
     "execution_count": 6,
     "metadata": {},
     "output_type": "execute_result"
    }
   ],
   "source": [
    "data_set1.groupby('male_or_female')['name'].count()"
   ]
  },
  {
   "cell_type": "code",
   "execution_count": 7,
   "metadata": {},
   "outputs": [],
   "source": [
    "names = data_set['name']\n",
    "gender = data_set['male_or_female']\n",
    "vocab = set(' '.join([str(i) for i in names]))\n",
    "vocab.add('END')\n",
    "vocab = vocab.union(collect)\n",
    "len_vocab = len(vocab)"
   ]
  },
  {
   "cell_type": "code",
   "execution_count": 8,
   "metadata": {},
   "outputs": [
    {
     "name": "stdout",
     "output_type": "stream",
     "text": [
      "{'ů', 'p', 'a', 'ú', 'g', 'e', 'ň', 'k', 'š', '6', 'y', '8', 'l', 'ď', 'q', '7', 'ť', 'r', 'm', '4', 'í', 'END', 's', 'č', '1', 'ó', 'n', 'ž', 'x', '0', 'b', 'ý', '.', ' ', 'ř', 'é', 'v', '3', 'o', '9', 'd', 'ě', 'j', 'c', '5', 'á', 'w', 'h', 'z', 'u', 'i', 'f', '2', 't'}\n",
      "vocab length is  54\n",
      "length of data_set is  15226\n"
     ]
    }
   ],
   "source": [
    "print(vocab)\n",
    "print(\"vocab length is \",len_vocab)\n",
    "print (\"length of data_set is \",len(data_set1))"
   ]
  },
  {
   "cell_type": "code",
   "execution_count": 9,
   "metadata": {
    "collapsed": true
   },
   "outputs": [],
   "source": [
    "char_index = dict((c, i) for i, c in enumerate(vocab))"
   ]
  },
  {
   "cell_type": "code",
   "execution_count": 10,
   "metadata": {},
   "outputs": [],
   "source": [
    "# with open('char_index.txt', 'wb') as handle:\n",
    "#     pickle.dump(char_index, handle)\n",
    "\n",
    "with open('char_index.txt', 'rb') as handle:\n",
    "    char_index = pickle.loads(handle.read())\n"
   ]
  },
  {
   "cell_type": "code",
   "execution_count": 11,
   "metadata": {},
   "outputs": [
    {
     "name": "stdout",
     "output_type": "stream",
     "text": [
      "{'ů': 23, 'p': 5, 'a': 45, 'ú': 26, 'g': 9, 'e': 1, 'ň': 47, 'š': 36, '6': 12, 'y': 50, '8': 53, 'l': 0, 'ď': 13, 'q': 10, '7': 2, 'k': 35, 'ť': 46, 'á': 17, 'r': 6, '5': 40, 'm': 28, '4': 29, 'í': 4, 'END': 43, 's': 8, 'č': 38, '1': 41, 'ó': 52, 'n': 51, 'ž': 39, 'x': 15, 'ý': 11, 'b': 25, 'ř': 31, '.': 34, ' ': 22, 'v': 19, '3': 49, 'o': 37, '9': 7, 'd': 16, 'ě': 24, 'j': 21, 'c': 42, 'é': 20, 'w': 33, 'h': 14, 'z': 3, 'u': 30, '0': 44, 'i': 32, 'f': 27, '2': 18, 't': 48}\n"
     ]
    }
   ],
   "source": [
    "print(char_index)"
   ]
  },
  {
   "cell_type": "code",
   "execution_count": 12,
   "metadata": {},
   "outputs": [],
   "source": [
    "#train test split\n",
    "msk = np.random.rand(len(data_set1)) < 0.9\n",
    "train = data_set1[msk]\n",
    "test = data_set1[~msk]     \n"
   ]
  },
  {
   "cell_type": "code",
   "execution_count": 13,
   "metadata": {
    "collapsed": true
   },
   "outputs": [],
   "source": [
    "def set_flag(i):\n",
    "    tmp = np.zeros(len_vocab);\n",
    "    tmp[i] = 1\n",
    "    return(tmp)"
   ]
  },
  {
   "cell_type": "code",
   "execution_count": 14,
   "metadata": {},
   "outputs": [
    {
     "data": {
      "text/plain": [
       "array([0., 0., 0., 1., 0., 0., 0., 0., 0., 0., 0., 0., 0., 0., 0., 0., 0.,\n",
       "       0., 0., 0., 0., 0., 0., 0., 0., 0., 0., 0., 0., 0., 0., 0., 0., 0.,\n",
       "       0., 0., 0., 0., 0., 0., 0., 0., 0., 0., 0., 0., 0., 0., 0., 0., 0.,\n",
       "       0., 0., 0.])"
      ]
     },
     "execution_count": 14,
     "metadata": {},
     "output_type": "execute_result"
    }
   ],
   "source": [
    "set_flag(3)"
   ]
  },
  {
   "cell_type": "markdown",
   "metadata": {},
   "source": [
    "#### modify the code above to also convert each index to one-hot encoded representation"
   ]
  },
  {
   "cell_type": "code",
   "execution_count": 15,
   "metadata": {},
   "outputs": [],
   "source": [
    "#take data_set upto max and truncate rest\n",
    "#encode to vector space(one hot encoding)\n",
    "#padd 'END' to shorter sequences\n",
    "#also convert each index to one-hot encoding\n",
    "train_X = []\n",
    "train_Y = []\n",
    "trunc_train_name = [str(i)[0:maxlen] for i in train.name]\n",
    "for i in trunc_train_name:\n",
    "    tmp = [set_flag(char_index[j]) for j in str(i)]\n",
    "    for k in range(0,maxlen - len(str(i))):\n",
    "        tmp.append(set_flag(char_index[\"END\"]))\n",
    "    train_X.append(tmp)\n",
    "for i in train.male_or_female:\n",
    "    if i == 'm':\n",
    "        train_Y.append([1,0])\n",
    "    else:\n",
    "        train_Y.append([0,1])\n",
    "    \n",
    "train_X=np.asarray(train_X)\n",
    "train_Y=np.asarray(train_Y)"
   ]
  },
  {
   "cell_type": "code",
   "execution_count": 16,
   "metadata": {
    "collapsed": true
   },
   "outputs": [],
   "source": [
    "test_X = []\n",
    "test_Y = []\n",
    "trunc_test_name = [str(i)[0:maxlen] for i in test.name]\n",
    "for i in trunc_test_name:\n",
    "    tmp = [set_flag(char_index[j]) for j in str(i)]\n",
    "    for k in range(0,maxlen - len(str(i))):\n",
    "        tmp.append(set_flag(char_index[\"END\"]))\n",
    "    test_X.append(tmp)\n",
    "for i in test.male_or_female:\n",
    "    if i == 'm':\n",
    "        test_Y.append([1,0])\n",
    "    else:\n",
    "        test_Y.append([0,1])\n",
    "    \n",
    "test_X = np.asarray(test_X)\n",
    "test_Y = np.asarray(test_Y)"
   ]
  },
  {
   "cell_type": "code",
   "execution_count": 17,
   "metadata": {},
   "outputs": [
    {
     "name": "stdout",
     "output_type": "stream",
     "text": [
      "(1543, 30, 54)\n",
      "(1543, 2)\n"
     ]
    }
   ],
   "source": [
    "print(np.asarray(test_X).shape)\n",
    "print(np.asarray(test_Y).shape)"
   ]
  },
  {
   "cell_type": "code",
   "execution_count": 18,
   "metadata": {},
   "outputs": [],
   "source": [
    "vtrain_x = []\n",
    "vtrain_y = []\n",
    "\n",
    "train_name = [str(i) for i in czech.Name]\n",
    "for i in train_name:\n",
    "    tmp = [set_flag(char_index[j]) for j in str(i.lower())]\n",
    "    for k in range(0, maxlen - len(str(i))):\n",
    "        tmp.append(set_flag(char_index['END']))\n",
    "    vtrain_x.append(tmp)\n",
    "for i in czech.male_or_female:\n",
    "    if i == 'm':\n",
    "        vtrain_y.append([1,0])\n",
    "    else:\n",
    "        vtrain_y.append([0,1])\n",
    "vtrain_x = np.asarray(vtrain_x)\n",
    "vtrain_y = np.asarray(vtrain_y)"
   ]
  },
  {
   "cell_type": "markdown",
   "metadata": {},
   "source": [
    "#### build model in keras ( a stacked LSTM model with many-to-one arch ) here 30 sequence and 2 output each for one category(m/f)"
   ]
  },
  {
   "cell_type": "code",
   "execution_count": 25,
   "metadata": {},
   "outputs": [
    {
     "name": "stdout",
     "output_type": "stream",
     "text": [
      "Build model...\n",
      "Model Built\n"
     ]
    }
   ],
   "source": [
    "#build the model: 2 stacked LSTM\n",
    "print('Build model...')\n",
    "input_bilstm=Input(shape = (maxlen,len_vocab))\n",
    "bi_one = Bidirectional(LSTM(512, return_sequences=True))(input_bilstm)\n",
    "drop1 = Dropout(0.2)(bi_one)\n",
    "bi_two = Bidirectional(LSTM(512, return_sequences=False))(drop1)\n",
    "drop2 = Dropout(0.2)(bi_two)\n",
    "output = Dense(2, activation='softmax')(drop2)\n",
    "model = Model(input_bilstm, output)\n",
    "\n",
    "\n",
    "optimizer = optimizers.Adam(lr = 0.01)\n",
    "model.compile(loss='categorical_crossentropy', optimizer='adam',metrics=['accuracy'])\n",
    "\n",
    "\n",
    "checkpoint_path = 'tmp/model.ckpt'\n",
    "early_stopping = EarlyStopping(monitor='val_acc',patience=10, verbose=1)\n",
    "model_checkpoint = ModelCheckpoint(checkpoint_path,monitor='val_acc',save_best_only=True, verbose=1)\n",
    "reduce_lr = ReduceLROnPlateau(monitor='val_acc',factor=0.5, patience=5, min_lr=0.0001, verbose=1)\n",
    "print('Model Built')\n"
   ]
  },
  {
   "cell_type": "code",
   "execution_count": 26,
   "metadata": {},
   "outputs": [
    {
     "name": "stdout",
     "output_type": "stream",
     "text": [
      "Train on 13725 samples, validate on 1250 samples\n",
      "Epoch 1/20\n",
      "\n",
      "Epoch 00001: val_acc improved from -inf to 0.63280, saving model to tmp/model.ckpt\n",
      " - 48s - loss: 0.6221 - acc: 0.6393 - val_loss: 0.6382 - val_acc: 0.6328\n",
      "Epoch 2/20\n",
      "\n",
      "Epoch 00002: val_acc improved from 0.63280 to 0.73520, saving model to tmp/model.ckpt\n",
      " - 17s - loss: 0.5186 - acc: 0.7493 - val_loss: 0.5307 - val_acc: 0.7352\n",
      "Epoch 3/20\n",
      "\n",
      "Epoch 00003: val_acc improved from 0.73520 to 0.77200, saving model to tmp/model.ckpt\n",
      " - 17s - loss: 0.4790 - acc: 0.7720 - val_loss: 0.4940 - val_acc: 0.7720\n",
      "Epoch 4/20\n",
      "\n",
      "Epoch 00004: val_acc did not improve from 0.77200\n",
      " - 17s - loss: 0.4557 - acc: 0.7892 - val_loss: 0.4912 - val_acc: 0.7720\n",
      "Epoch 5/20\n",
      "\n",
      "Epoch 00005: val_acc improved from 0.77200 to 0.83200, saving model to tmp/model.ckpt\n",
      " - 17s - loss: 0.4348 - acc: 0.8014 - val_loss: 0.4118 - val_acc: 0.8320\n",
      "Epoch 6/20\n",
      "\n",
      "Epoch 00006: val_acc improved from 0.83200 to 0.84080, saving model to tmp/model.ckpt\n",
      " - 17s - loss: 0.4060 - acc: 0.8224 - val_loss: 0.3972 - val_acc: 0.8408\n",
      "Epoch 7/20\n",
      "\n",
      "Epoch 00007: val_acc improved from 0.84080 to 0.91440, saving model to tmp/model.ckpt\n",
      " - 17s - loss: 0.3736 - acc: 0.8407 - val_loss: 0.3006 - val_acc: 0.9144\n",
      "Epoch 8/20\n",
      "\n",
      "Epoch 00008: val_acc did not improve from 0.91440\n",
      " - 17s - loss: 0.3463 - acc: 0.8541 - val_loss: 0.3316 - val_acc: 0.9040\n",
      "Epoch 9/20\n",
      "\n",
      "Epoch 00009: val_acc did not improve from 0.91440\n",
      " - 17s - loss: 0.3259 - acc: 0.8642 - val_loss: 0.3120 - val_acc: 0.9120\n",
      "Epoch 10/20\n",
      "\n",
      "Epoch 00010: val_acc did not improve from 0.91440\n",
      " - 17s - loss: 0.3188 - acc: 0.8698 - val_loss: 0.3099 - val_acc: 0.9144\n",
      "Epoch 11/20\n",
      "\n",
      "Epoch 00011: val_acc did not improve from 0.91440\n",
      " - 17s - loss: 0.3070 - acc: 0.8734 - val_loss: 0.3460 - val_acc: 0.8824\n",
      "Epoch 12/20\n",
      "\n",
      "Epoch 00012: val_acc did not improve from 0.91440\n",
      "\n",
      "Epoch 00012: ReduceLROnPlateau reducing learning rate to 0.0005000000237487257.\n",
      " - 17s - loss: 0.2979 - acc: 0.8767 - val_loss: 0.3174 - val_acc: 0.9064\n",
      "Epoch 13/20\n",
      "\n",
      "Epoch 00013: val_acc did not improve from 0.91440\n",
      " - 16s - loss: 0.2811 - acc: 0.8863 - val_loss: 0.3259 - val_acc: 0.8920\n",
      "Epoch 14/20\n",
      "\n",
      "Epoch 00014: val_acc did not improve from 0.91440\n",
      " - 16s - loss: 0.2761 - acc: 0.8908 - val_loss: 0.2961 - val_acc: 0.8976\n",
      "Epoch 15/20\n",
      "\n",
      "Epoch 00015: val_acc did not improve from 0.91440\n",
      " - 16s - loss: 0.2687 - acc: 0.8917 - val_loss: 0.3226 - val_acc: 0.8992\n",
      "Epoch 16/20\n",
      "\n",
      "Epoch 00016: val_acc did not improve from 0.91440\n",
      " - 16s - loss: 0.2573 - acc: 0.8970 - val_loss: 0.3299 - val_acc: 0.8856\n",
      "Epoch 17/20\n",
      "\n",
      "Epoch 00017: val_acc did not improve from 0.91440\n",
      "\n",
      "Epoch 00017: ReduceLROnPlateau reducing learning rate to 0.0002500000118743628.\n",
      " - 16s - loss: 0.2516 - acc: 0.9012 - val_loss: 0.3050 - val_acc: 0.9008\n",
      "Epoch 00017: early stopping\n"
     ]
    },
    {
     "data": {
      "text/plain": [
       "<tensorflow.python.keras.callbacks.History at 0x7fe57dc99198>"
      ]
     },
     "execution_count": 26,
     "metadata": {},
     "output_type": "execute_result"
    }
   ],
   "source": [
    "batch_size=500\n",
    "model.fit(train_X, train_Y,\n",
    "          batch_size=batch_size,\n",
    "          epochs=20,\n",
    "          callbacks=[model_checkpoint,reduce_lr,early_stopping],\n",
    "          validation_data=(vtrain_x, vtrain_y),\n",
    "          verbose = 2\n",
    "         )\n",
    "# model.save('model.h5')\n"
   ]
  },
  {
   "cell_type": "code",
   "execution_count": 19,
   "metadata": {},
   "outputs": [],
   "source": [
    "new_model = load_model('tmp/model.ckpt')"
   ]
  },
  {
   "cell_type": "code",
   "execution_count": 20,
   "metadata": {},
   "outputs": [
    {
     "name": "stdout",
     "output_type": "stream",
     "text": [
      "1250/1250 [==============================] - 2s 2ms/step\n",
      "Test score: 0.30056820499897\n",
      "Test accuracy: 0.9144\n"
     ]
    }
   ],
   "source": [
    "score, acc = new_model.evaluate(vtrain_x, vtrain_y)\n",
    "print('Test score:', score)\n",
    "print('Test accuracy:', acc)\n",
    "\n",
    "# pred = new_model.predict(vtrain_x)\n",
    "# r2_score(np.around(pred), vtrain_y)"
   ]
  },
  {
   "cell_type": "code",
   "execution_count": 26,
   "metadata": {},
   "outputs": [
    {
     "name": "stdout",
     "output_type": "stream",
     "text": [
      "radha .... is name of a female\n"
     ]
    }
   ],
   "source": [
    "# name=[sys.argv[1]]\n",
    "name = [\"radha\"]\n",
    "# name=[\"sandhya\",\"jaspreet\",\"rajesh\",\"kaveri\",\"aditi deepak\",\"arihant\",\"sasikala\",\"aditi\",\"ragini rajaram\"]\n",
    "\n",
    "X=[]\n",
    "trunc_name = [i[0:maxlen] for i in name]\n",
    "for i in trunc_name:\n",
    "    tmp = [set_flag(char_index[j]) for j in str(i.lower())]\n",
    "    for k in range(0,maxlen - len(str(i))):\n",
    "        tmp.append(set_flag(char_index[\"END\"]))\n",
    "    X.append(tmp)\n",
    "pred=new_model.predict(np.asarray(X))\n",
    "pred = pred.round()[0]\n",
    "if pred[0] == 1.0:\n",
    "    print( name[0], \".... is name of a male\")\n",
    "else:\n",
    "    print(name[0], \".... is name of a female\")"
   ]
  },
  {
   "cell_type": "code",
   "execution_count": 47,
   "metadata": {},
   "outputs": [
    {
     "data": {
      "text/plain": [
       "array([0., 1.], dtype=float32)"
      ]
     },
     "execution_count": 47,
     "metadata": {},
     "output_type": "execute_result"
    }
   ],
   "source": [
    "pred"
   ]
  },
  {
   "cell_type": "code",
   "execution_count": null,
   "metadata": {},
   "outputs": [],
   "source": []
  }
 ],
 "metadata": {
  "kernelspec": {
   "display_name": "Python 3",
   "language": "python",
   "name": "python3"
  },
  "language_info": {
   "codemirror_mode": {
    "name": "ipython",
    "version": 3
   },
   "file_extension": ".py",
   "mimetype": "text/x-python",
   "name": "python",
   "nbconvert_exporter": "python",
   "pygments_lexer": "ipython3",
   "version": "3.5.2"
  }
 },
 "nbformat": 4,
 "nbformat_minor": 2
}
