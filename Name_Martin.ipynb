{
 "cells": [
  {
   "cell_type": "code",
   "execution_count": 1,
   "metadata": {},
   "outputs": [
    {
     "name": "stderr",
     "output_type": "stream",
     "text": [
      "/usr/local/lib/python3.5/dist-packages/h5py/__init__.py:36: FutureWarning: Conversion of the second argument of issubdtype from `float` to `np.floating` is deprecated. In future, it will be treated as `np.float64 == np.dtype(float).type`.\n",
      "  from ._conv import register_converters as _register_converters\n",
      "Using TensorFlow backend.\n"
     ]
    }
   ],
   "source": [
    "from __future__ import print_function\n",
    "\n",
    "from sklearn.preprocessing import OneHotEncoder\n",
    "from keras.layers.core import Dense, Activation, Dropout\n",
    "from keras.preprocessing import sequence\n",
    "from keras.models import Model\n",
    "from keras.layers import Dense, Embedding, Bidirectional, Input, TimeDistributed\n",
    "from keras.layers import LSTM\n",
    "from keras.datasets import imdb\n",
    "from keras import optimizers\n",
    "import pandas as pd\n",
    "import numpy as np\n",
    "import os"
   ]
  },
  {
   "cell_type": "code",
   "execution_count": 2,
   "metadata": {
    "collapsed": true
   },
   "outputs": [],
   "source": [
    "#parameters\n",
    "maxlen = 30\n",
    "labels = 2"
   ]
  },
  {
   "cell_type": "code",
   "execution_count": 3,
   "metadata": {},
   "outputs": [],
   "source": [
    "czech = pd.read_excel('czech.xlsx', encoding='latin',header = None)\n",
    "czech.columns = ['Name', 'm_or_f']\n",
    "czech['namelen'] = [len(str(i)) for i in czech['Name']]\n"
   ]
  },
  {
   "cell_type": "code",
   "execution_count": 4,
   "metadata": {},
   "outputs": [
    {
     "data": {
      "text/html": [
       "<div>\n",
       "<style scoped>\n",
       "    .dataframe tbody tr th:only-of-type {\n",
       "        vertical-align: middle;\n",
       "    }\n",
       "\n",
       "    .dataframe tbody tr th {\n",
       "        vertical-align: top;\n",
       "    }\n",
       "\n",
       "    .dataframe thead th {\n",
       "        text-align: right;\n",
       "    }\n",
       "</style>\n",
       "<table border=\"1\" class=\"dataframe\">\n",
       "  <thead>\n",
       "    <tr style=\"text-align: right;\">\n",
       "      <th></th>\n",
       "      <th>Name</th>\n",
       "      <th>m_or_f</th>\n",
       "      <th>namelen</th>\n",
       "    </tr>\n",
       "  </thead>\n",
       "  <tbody>\n",
       "    <tr>\n",
       "      <th>0</th>\n",
       "      <td>Abigail</td>\n",
       "      <td>f</td>\n",
       "      <td>7</td>\n",
       "    </tr>\n",
       "    <tr>\n",
       "      <th>1</th>\n",
       "      <td>Ada</td>\n",
       "      <td>f</td>\n",
       "      <td>3</td>\n",
       "    </tr>\n",
       "    <tr>\n",
       "      <th>2</th>\n",
       "      <td>Adalberta</td>\n",
       "      <td>f</td>\n",
       "      <td>9</td>\n",
       "    </tr>\n",
       "    <tr>\n",
       "      <th>3</th>\n",
       "      <td>Adéla</td>\n",
       "      <td>f</td>\n",
       "      <td>5</td>\n",
       "    </tr>\n",
       "    <tr>\n",
       "      <th>4</th>\n",
       "      <td>Adelaida</td>\n",
       "      <td>f</td>\n",
       "      <td>8</td>\n",
       "    </tr>\n",
       "  </tbody>\n",
       "</table>\n",
       "</div>"
      ],
      "text/plain": [
       "        Name m_or_f  namelen\n",
       "0    Abigail      f        7\n",
       "1        Ada      f        3\n",
       "2  Adalberta      f        9\n",
       "3      Adéla      f        5\n",
       "4   Adelaida      f        8"
      ]
     },
     "execution_count": 4,
     "metadata": {},
     "output_type": "execute_result"
    }
   ],
   "source": [
    "cname = czech['Name']\n",
    "collect = []\n",
    "\n",
    "\n",
    "for i in range(len(cname)):\n",
    "    collect.extend(list(str(cname[i]).lower()))\n",
    "# collect.extend(['END'])\n",
    "collect = set(collect)\n",
    "\n",
    "czech.head()"
   ]
  },
  {
   "cell_type": "code",
   "execution_count": 5,
   "metadata": {},
   "outputs": [],
   "source": [
    "data_set = pd.read_csv(\"gender_data.csv\",header=None)\n",
    "data_set.columns = ['name','m_or_f']\n",
    "data_set['namelen']= [len(str(i)) for i in data_set['name']]\n",
    "data_set1 = data_set[(data_set['namelen'] >= 2) ]"
   ]
  },
  {
   "cell_type": "code",
   "execution_count": 6,
   "metadata": {
    "scrolled": true
   },
   "outputs": [
    {
     "data": {
      "text/plain": [
       "m_or_f\n",
       "f    6705\n",
       "m    8475\n",
       "Name: name, dtype: int64"
      ]
     },
     "execution_count": 6,
     "metadata": {},
     "output_type": "execute_result"
    }
   ],
   "source": [
    "data_set1.groupby('m_or_f')['name'].count()"
   ]
  },
  {
   "cell_type": "code",
   "execution_count": 7,
   "metadata": {},
   "outputs": [],
   "source": [
    "names = data_set['name']\n",
    "gender = data_set['m_or_f']\n",
    "vocab = set(' '.join([str(i) for i in names]))\n",
    "vocab.add('END')\n",
    "vocab = vocab.union(collect)\n",
    "len_vocab = len(vocab)"
   ]
  },
  {
   "cell_type": "code",
   "execution_count": 8,
   "metadata": {},
   "outputs": [
    {
     "name": "stdout",
     "output_type": "stream",
     "text": [
      "{'p', 'n', 'END', 'a', 'í', 's', 'ď', '0', 't', '2', 'd', 'ů', 'ó', 'u', 'i', 'y', 'ň', '.', 'č', 'b', '9', 'c', 'ž', 'k', 'h', 'á', 'ř', '8', 'f', 'm', '5', '3', 'ť', 'e', 'o', 'š', 'ě', '4', 'r', 'ú', '7', 'é', 'z', 'x', 'q', 'g', '1', ' ', 'v', 'l', 'j', 'w', '6', 'ý'}\n",
      "vocab length is  54\n",
      "length of data_set is  15226\n"
     ]
    }
   ],
   "source": [
    "print(vocab)\n",
    "print(\"vocab length is \",len_vocab)\n",
    "print (\"length of data_set is \",len(data_set1))"
   ]
  },
  {
   "cell_type": "code",
   "execution_count": 9,
   "metadata": {
    "collapsed": true
   },
   "outputs": [],
   "source": [
    "char_index = dict((c, i) for i, c in enumerate(vocab))"
   ]
  },
  {
   "cell_type": "code",
   "execution_count": 10,
   "metadata": {},
   "outputs": [
    {
     "name": "stdout",
     "output_type": "stream",
     "text": [
      "{'p': 0, 'n': 1, 'END': 2, 'a': 3, 's': 5, 'ď': 6, '0': 7, 't': 8, '2': 9, 'd': 10, 'ů': 11, 'ó': 12, 'u': 13, 'i': 14, 'y': 15, 'ň': 16, 'í': 4, '.': 17, 'b': 19, '9': 20, '5': 30, 'c': 21, 'g': 45, 'ž': 22, 'k': 23, 'h': 24, 'á': 25, 'ř': 26, '8': 27, 'f': 28, 'm': 29, '3': 31, 'ť': 32, 'e': 33, 'o': 34, 'š': 35, 'ě': 36, '4': 37, 'ú': 39, '7': 40, 'é': 41, 'z': 42, 'x': 43, 'q': 44, 'č': 18, '1': 46, 'r': 38, ' ': 47, 'v': 48, 'l': 49, 'j': 50, 'w': 51, '6': 52, 'ý': 53}\n"
     ]
    }
   ],
   "source": [
    "print(char_index)"
   ]
  },
  {
   "cell_type": "code",
   "execution_count": 11,
   "metadata": {},
   "outputs": [],
   "source": [
    "#train test split\n",
    "msk = np.random.rand(len(data_set1)) < 0.8\n",
    "train = data_set1[msk]\n",
    "test = data_set1[~msk]     \n"
   ]
  },
  {
   "cell_type": "code",
   "execution_count": 12,
   "metadata": {
    "collapsed": true
   },
   "outputs": [],
   "source": [
    "def set_flag(i):\n",
    "    tmp = np.zeros(len_vocab);\n",
    "    tmp[i] = 1\n",
    "    return(tmp)"
   ]
  },
  {
   "cell_type": "code",
   "execution_count": 13,
   "metadata": {},
   "outputs": [
    {
     "data": {
      "text/plain": [
       "array([0., 0., 0., 1., 0., 0., 0., 0., 0., 0., 0., 0., 0., 0., 0., 0., 0.,\n",
       "       0., 0., 0., 0., 0., 0., 0., 0., 0., 0., 0., 0., 0., 0., 0., 0., 0.,\n",
       "       0., 0., 0., 0., 0., 0., 0., 0., 0., 0., 0., 0., 0., 0., 0., 0., 0.,\n",
       "       0., 0., 0.])"
      ]
     },
     "execution_count": 13,
     "metadata": {},
     "output_type": "execute_result"
    }
   ],
   "source": [
    "set_flag(3)"
   ]
  },
  {
   "cell_type": "markdown",
   "metadata": {},
   "source": [
    "#### modify the code above to also convert each index to one-hot encoded representation"
   ]
  },
  {
   "cell_type": "code",
   "execution_count": 14,
   "metadata": {},
   "outputs": [],
   "source": [
    "#take data_set upto max and truncate rest\n",
    "#encode to vector space(one hot encoding)\n",
    "#padd 'END' to shorter sequences\n",
    "#also convert each index to one-hot encoding\n",
    "train_X = []\n",
    "train_Y = []\n",
    "trunc_train_name = [str(i)[0:maxlen] for i in train.name]\n",
    "for i in trunc_train_name:\n",
    "    tmp = [set_flag(char_index[j]) for j in str(i)]\n",
    "    for k in range(0,maxlen - len(str(i))):\n",
    "        tmp.append(set_flag(char_index[\"END\"]))\n",
    "    train_X.append(tmp)\n",
    "for i in train.m_or_f:\n",
    "    if i == 'm':\n",
    "        train_Y.append([1,0])\n",
    "    else:\n",
    "        train_Y.append([0,1])\n",
    "    \n",
    "train_X=np.asarray(train_X)\n",
    "train_Y=np.asarray(train_Y)"
   ]
  },
  {
   "cell_type": "code",
   "execution_count": 15,
   "metadata": {
    "collapsed": true
   },
   "outputs": [],
   "source": [
    "test_X = []\n",
    "test_Y = []\n",
    "trunc_test_name = [str(i)[0:maxlen] for i in test.name]\n",
    "for i in trunc_test_name:\n",
    "    tmp = [set_flag(char_index[j]) for j in str(i)]\n",
    "    for k in range(0,maxlen - len(str(i))):\n",
    "        tmp.append(set_flag(char_index[\"END\"]))\n",
    "    test_X.append(tmp)\n",
    "for i in test.m_or_f:\n",
    "    if i == 'm':\n",
    "        test_Y.append([1,0])\n",
    "    else:\n",
    "        test_Y.append([0,1])\n",
    "    \n",
    "test_X = np.asarray(test_X)\n",
    "test_Y = np.asarray(test_Y)"
   ]
  },
  {
   "cell_type": "code",
   "execution_count": 16,
   "metadata": {},
   "outputs": [
    {
     "name": "stdout",
     "output_type": "stream",
     "text": [
      "(3045, 30, 54)\n",
      "(3045, 2)\n"
     ]
    }
   ],
   "source": [
    "print(np.asarray(test_X).shape)\n",
    "print(np.asarray(test_Y).shape)"
   ]
  },
  {
   "cell_type": "code",
   "execution_count": 17,
   "metadata": {},
   "outputs": [],
   "source": [
    "msk = np.random.rand(len(czech)) < 0.8\n",
    "\n",
    "\n",
    "vtrain = czech[msk]\n",
    "vtest = czech[~msk]"
   ]
  },
  {
   "cell_type": "code",
   "execution_count": 18,
   "metadata": {},
   "outputs": [],
   "source": [
    "vtrain_x = []\n",
    "vtrain_y = []\n",
    "\n",
    "train_name = [str(i) for i in vtrain.Name]\n",
    "for i in train_name:\n",
    "    tmp = [set_flag(char_index[j]) for j in str(i.lower())]\n",
    "    for k in range(0, maxlen - len(str(i))):\n",
    "        tmp.append(set_flag(char_index['END']))\n",
    "    vtrain_x.append(tmp)\n",
    "for i in vtrain.m_or_f:\n",
    "    if i == 'm':\n",
    "        vtrain_y.append([1,0])\n",
    "    else:\n",
    "        vtrain_y.append([0,1])\n",
    "vtrain_x = np.asarray(vtrain_x)\n",
    "vtrain_y = np.asarray(vtrain_y)"
   ]
  },
  {
   "cell_type": "code",
   "execution_count": 19,
   "metadata": {},
   "outputs": [],
   "source": [
    "vtest_x = []\n",
    "vtest_y = []\n",
    "\n",
    "train_name = [str(i) for i in vtest.Name]\n",
    "for i in train_name:\n",
    "    tmp = [set_flag(char_index[j]) for j in str(i.lower())]\n",
    "    for k in range(0, maxlen - len(str(i))):\n",
    "        tmp.append(set_flag(char_index['END']))\n",
    "    vtest_x.append(tmp)\n",
    "for i in vtest.m_or_f:\n",
    "    if i == 'm':\n",
    "        vtest_y.append([1,0])\n",
    "    else:\n",
    "        vtest_y.append([0,1])\n",
    "vtest_x = np.asarray(vtest_x)\n",
    "vtest_y = np.asarray(vtest_y)"
   ]
  },
  {
   "cell_type": "markdown",
   "metadata": {},
   "source": [
    "#### build model in keras ( a stacked LSTM model with many-to-one arch ) here 30 sequence and 2 output each for one category(m/f)"
   ]
  },
  {
   "cell_type": "code",
   "execution_count": 20,
   "metadata": {},
   "outputs": [
    {
     "name": "stdout",
     "output_type": "stream",
     "text": [
      "Build model...\n"
     ]
    }
   ],
   "source": [
    "#build the model: 2 stacked LSTM\n",
    "print('Build model...')\n",
    "input_bilstm=Input(shape = (maxlen,len_vocab))\n",
    "bi_one = Bidirectional(LSTM(512, return_sequences=True))(input_bilstm)\n",
    "drop1 = Dropout(0.2)(bi_one)\n",
    "bi_two = Bidirectional(LSTM(512, return_sequences=False))(drop1)\n",
    "drop2 = Dropout(0.2)(bi_two)\n",
    "output = Dense(2, activation='softmax')(drop2)\n",
    "model = Model(input_bilstm, output)\n",
    "\n",
    "\n",
    "optimizer = optimizers.adam(lr = 0.01)\n",
    "model.compile(loss='categorical_crossentropy', optimizer='adam',metrics=['accuracy'])\n",
    "\n",
    "\n"
   ]
  },
  {
   "cell_type": "code",
   "execution_count": 25,
   "metadata": {},
   "outputs": [
    {
     "name": "stdout",
     "output_type": "stream",
     "text": [
      "Train on 12181 samples, validate on 1031 samples\n",
      "Epoch 1/50\n",
      "12181/12181 [==============================] - 13s 1ms/step - loss: 0.3253 - acc: 0.8671 - val_loss: 0.3262 - val_acc: 0.9040\n",
      "Epoch 2/50\n",
      "12181/12181 [==============================] - 13s 1ms/step - loss: 0.3124 - acc: 0.8728 - val_loss: 0.3282 - val_acc: 0.8914\n",
      "Epoch 3/50\n",
      "12181/12181 [==============================] - 13s 1ms/step - loss: 0.3076 - acc: 0.8723 - val_loss: 0.3248 - val_acc: 0.8991\n",
      "Epoch 4/50\n",
      "12181/12181 [==============================] - 13s 1ms/step - loss: 0.2972 - acc: 0.8811 - val_loss: 0.3115 - val_acc: 0.9020\n",
      "Epoch 5/50\n",
      "12181/12181 [==============================] - 13s 1ms/step - loss: 0.2834 - acc: 0.8880 - val_loss: 0.3155 - val_acc: 0.8982\n",
      "Epoch 6/50\n",
      "12181/12181 [==============================] - 13s 1ms/step - loss: 0.2759 - acc: 0.8914 - val_loss: 0.3359 - val_acc: 0.8923\n",
      "Epoch 7/50\n",
      "12181/12181 [==============================] - 13s 1ms/step - loss: 0.2725 - acc: 0.8934 - val_loss: 0.3418 - val_acc: 0.8914\n",
      "Epoch 8/50\n",
      "12181/12181 [==============================] - 13s 1ms/step - loss: 0.2655 - acc: 0.8966 - val_loss: 0.3877 - val_acc: 0.8487\n",
      "Epoch 9/50\n",
      "12181/12181 [==============================] - 13s 1ms/step - loss: 0.2582 - acc: 0.9007 - val_loss: 0.3117 - val_acc: 0.8865\n",
      "Epoch 10/50\n",
      "12181/12181 [==============================] - 13s 1ms/step - loss: 0.2523 - acc: 0.9009 - val_loss: 0.3286 - val_acc: 0.8914\n",
      "Epoch 11/50\n",
      "12181/12181 [==============================] - 13s 1ms/step - loss: 0.2480 - acc: 0.9037 - val_loss: 0.3177 - val_acc: 0.8836\n",
      "Epoch 12/50\n",
      "12181/12181 [==============================] - 13s 1ms/step - loss: 0.2344 - acc: 0.9087 - val_loss: 0.3873 - val_acc: 0.8623\n",
      "Epoch 13/50\n",
      "12181/12181 [==============================] - 13s 1ms/step - loss: 0.2359 - acc: 0.9081 - val_loss: 0.3283 - val_acc: 0.8710\n",
      "Epoch 14/50\n",
      "12181/12181 [==============================] - 13s 1ms/step - loss: 0.2186 - acc: 0.9157 - val_loss: 0.3597 - val_acc: 0.8497\n",
      "Epoch 15/50\n",
      "12181/12181 [==============================] - 13s 1ms/step - loss: 0.2084 - acc: 0.9172 - val_loss: 0.3490 - val_acc: 0.8574\n",
      "Epoch 16/50\n",
      "12181/12181 [==============================] - 13s 1ms/step - loss: 0.2088 - acc: 0.9210 - val_loss: 0.3368 - val_acc: 0.8778\n",
      "Epoch 17/50\n",
      "12181/12181 [==============================] - 13s 1ms/step - loss: 0.2032 - acc: 0.9199 - val_loss: 0.3876 - val_acc: 0.8497\n",
      "Epoch 18/50\n",
      "12181/12181 [==============================] - 13s 1ms/step - loss: 0.1919 - acc: 0.9291 - val_loss: 0.3268 - val_acc: 0.8691\n",
      "Epoch 19/50\n",
      "12181/12181 [==============================] - 13s 1ms/step - loss: 0.1814 - acc: 0.9299 - val_loss: 0.4264 - val_acc: 0.8283\n",
      "Epoch 20/50\n",
      "12181/12181 [==============================] - 13s 1ms/step - loss: 0.1835 - acc: 0.9286 - val_loss: 0.3623 - val_acc: 0.8497\n",
      "Epoch 21/50\n",
      "12181/12181 [==============================] - 13s 1ms/step - loss: 0.1782 - acc: 0.9311 - val_loss: 0.3958 - val_acc: 0.8390\n",
      "Epoch 22/50\n",
      "12181/12181 [==============================] - 13s 1ms/step - loss: 0.1629 - acc: 0.9371 - val_loss: 0.4061 - val_acc: 0.8409\n",
      "Epoch 23/50\n",
      "12181/12181 [==============================] - 13s 1ms/step - loss: 0.1550 - acc: 0.9401 - val_loss: 0.4564 - val_acc: 0.8196\n",
      "Epoch 24/50\n",
      "12181/12181 [==============================] - 13s 1ms/step - loss: 0.1579 - acc: 0.9401 - val_loss: 0.5173 - val_acc: 0.7963\n",
      "Epoch 25/50\n",
      "12181/12181 [==============================] - 13s 1ms/step - loss: 0.1515 - acc: 0.9420 - val_loss: 0.4934 - val_acc: 0.8041\n",
      "Epoch 26/50\n",
      "12181/12181 [==============================] - 13s 1ms/step - loss: 0.1415 - acc: 0.9458 - val_loss: 0.4231 - val_acc: 0.8419\n",
      "Epoch 27/50\n",
      "12181/12181 [==============================] - 13s 1ms/step - loss: 0.1393 - acc: 0.9461 - val_loss: 0.4304 - val_acc: 0.8429\n",
      "Epoch 28/50\n",
      "12181/12181 [==============================] - 13s 1ms/step - loss: 0.1343 - acc: 0.9470 - val_loss: 0.4636 - val_acc: 0.8274\n",
      "Epoch 29/50\n",
      "12181/12181 [==============================] - 13s 1ms/step - loss: 0.1239 - acc: 0.9506 - val_loss: 0.6256 - val_acc: 0.7895\n",
      "Epoch 30/50\n",
      "12181/12181 [==============================] - 13s 1ms/step - loss: 0.1200 - acc: 0.9517 - val_loss: 0.4801 - val_acc: 0.8274\n",
      "Epoch 31/50\n",
      "12181/12181 [==============================] - 13s 1ms/step - loss: 0.1104 - acc: 0.9576 - val_loss: 0.5344 - val_acc: 0.8186\n",
      "Epoch 32/50\n",
      "12181/12181 [==============================] - 13s 1ms/step - loss: 0.1095 - acc: 0.9560 - val_loss: 0.4090 - val_acc: 0.8448\n",
      "Epoch 33/50\n",
      "12181/12181 [==============================] - 13s 1ms/step - loss: 0.1067 - acc: 0.9564 - val_loss: 0.5301 - val_acc: 0.8070\n",
      "Epoch 34/50\n",
      "12181/12181 [==============================] - 13s 1ms/step - loss: 0.0960 - acc: 0.9599 - val_loss: 0.4904 - val_acc: 0.8361\n",
      "Epoch 35/50\n",
      "12181/12181 [==============================] - 13s 1ms/step - loss: 0.1072 - acc: 0.9554 - val_loss: 0.5291 - val_acc: 0.8070\n",
      "Epoch 36/50\n",
      "12181/12181 [==============================] - 13s 1ms/step - loss: 0.0992 - acc: 0.9592 - val_loss: 0.5658 - val_acc: 0.8147\n",
      "Epoch 37/50\n",
      "12181/12181 [==============================] - 13s 1ms/step - loss: 0.0885 - acc: 0.9627 - val_loss: 0.5886 - val_acc: 0.8254\n",
      "Epoch 38/50\n",
      "12181/12181 [==============================] - 13s 1ms/step - loss: 0.0810 - acc: 0.9659 - val_loss: 0.6920 - val_acc: 0.7905\n",
      "Epoch 39/50\n",
      "12181/12181 [==============================] - 13s 1ms/step - loss: 0.0772 - acc: 0.9672 - val_loss: 0.5177 - val_acc: 0.8322\n",
      "Epoch 40/50\n",
      "12181/12181 [==============================] - 13s 1ms/step - loss: 0.0727 - acc: 0.9684 - val_loss: 0.6375 - val_acc: 0.8041\n",
      "Epoch 41/50\n",
      "12181/12181 [==============================] - 13s 1ms/step - loss: 0.0738 - acc: 0.9701 - val_loss: 0.5586 - val_acc: 0.8293\n",
      "Epoch 42/50\n",
      "12181/12181 [==============================] - 13s 1ms/step - loss: 0.0801 - acc: 0.9657 - val_loss: 0.6760 - val_acc: 0.8050\n",
      "Epoch 43/50\n",
      "12181/12181 [==============================] - 13s 1ms/step - loss: 0.0755 - acc: 0.9687 - val_loss: 0.6856 - val_acc: 0.8128\n",
      "Epoch 44/50\n",
      "12181/12181 [==============================] - 13s 1ms/step - loss: 0.0711 - acc: 0.9694 - val_loss: 0.7915 - val_acc: 0.7944\n",
      "Epoch 45/50\n",
      "12181/12181 [==============================] - 13s 1ms/step - loss: 0.0699 - acc: 0.9705 - val_loss: 0.6701 - val_acc: 0.8147\n",
      "Epoch 46/50\n",
      "12181/12181 [==============================] - 13s 1ms/step - loss: 0.0760 - acc: 0.9687 - val_loss: 0.6161 - val_acc: 0.8177\n",
      "Epoch 47/50\n",
      "12181/12181 [==============================] - 13s 1ms/step - loss: 0.0592 - acc: 0.9736 - val_loss: 0.7525 - val_acc: 0.8080\n",
      "Epoch 48/50\n",
      "12181/12181 [==============================] - 13s 1ms/step - loss: 0.0545 - acc: 0.9753 - val_loss: 0.7695 - val_acc: 0.8167\n",
      "Epoch 49/50\n",
      "12181/12181 [==============================] - 13s 1ms/step - loss: 0.0596 - acc: 0.9732 - val_loss: 0.8185 - val_acc: 0.7808\n",
      "Epoch 50/50\n",
      "12181/12181 [==============================] - 13s 1ms/step - loss: 0.0527 - acc: 0.9763 - val_loss: 0.7003 - val_acc: 0.8390\n"
     ]
    }
   ],
   "source": [
    "batch_size=500\n",
    "model.fit(train_X, train_Y,\n",
    "          batch_size=batch_size,\n",
    "          epochs=50,\n",
    "          validation_data=(vtrain_x, vtrain_y)\n",
    "         )\n",
    "model.save('Martin_program.h5')"
   ]
  },
  {
   "cell_type": "code",
   "execution_count": 24,
   "metadata": {},
   "outputs": [
    {
     "name": "stdout",
     "output_type": "stream",
     "text": [
      "219/219 [==============================] - 0s 885us/step\n",
      "Test score: 0.3811889509223912\n",
      "Test accuracy: 0.8493150665879794\n"
     ]
    }
   ],
   "source": [
    "score, acc = model.evaluate(vtest_x, vtest_y)\n",
    "print('Test score:', score)\n",
    "print('Test accuracy:', acc)"
   ]
  },
  {
   "cell_type": "code",
   "execution_count": 148,
   "metadata": {},
   "outputs": [
    {
     "data": {
      "text/plain": [
       "array([[0.16779284, 0.83220714]], dtype=float32)"
      ]
     },
     "execution_count": 148,
     "metadata": {},
     "output_type": "execute_result"
    }
   ],
   "source": [
    "name=[\"riya\"]\n",
    "X=[]\n",
    "trunc_name = [i[0:maxlen] for i in name]\n",
    "for i in trunc_name:\n",
    "    tmp = [set_flag(char_index[j]) for j in str(i.lower())]\n",
    "    for k in range(0,maxlen - len(str(i))):\n",
    "        tmp.append(set_flag(char_index[\"END\"]))\n",
    "    X.append(tmp)\n",
    "pred=model.predict(np.asarray(X))\n",
    "pred"
   ]
  },
  {
   "cell_type": "code",
   "execution_count": 47,
   "metadata": {},
   "outputs": [
    {
     "data": {
      "text/plain": [
       "array([[0.05657073, 0.9434293 ],\n",
       "       [0.9473468 , 0.05265319],\n",
       "       [0.9572235 , 0.04277651]], dtype=float32)"
      ]
     },
     "execution_count": 47,
     "metadata": {},
     "output_type": "execute_result"
    }
   ],
   "source": [
    "pred"
   ]
  },
  {
   "cell_type": "markdown",
   "metadata": {},
   "source": [
    "#### Lets train more, clearly some very simple female names it doesnt get right like mentioned above (inspite it exists in training data)"
   ]
  },
  {
   "cell_type": "code",
   "execution_count": 29,
   "metadata": {},
   "outputs": [
    {
     "name": "stdout",
     "output_type": "stream",
     "text": [
      "219/219 [==============================] - 0s 980us/step\n",
      "Test score: 0.6552725690140572\n",
      "Test accuracy: 0.817351598990018\n"
     ]
    }
   ],
   "source": [
    "score, acc = model.evaluate(vtest_x, vtest_y)\n",
    "print('Test score:', score)\n",
    "print('Test accuracy:', acc)"
   ]
  },
  {
   "cell_type": "code",
   "execution_count": 49,
   "metadata": {},
   "outputs": [
    {
     "data": {
      "text/plain": [
       "array([[5.6570753e-02, 9.4342929e-01],\n",
       "       [9.4734681e-01, 5.2653167e-02],\n",
       "       [9.5722347e-01, 4.2776532e-02],\n",
       "       [3.5088859e-02, 9.6491110e-01],\n",
       "       [2.1997560e-04, 9.9978000e-01],\n",
       "       [9.9858874e-01, 1.4111887e-03],\n",
       "       [1.1531739e-04, 9.9988472e-01],\n",
       "       [4.6136803e-03, 9.9538630e-01],\n",
       "       [1.8581923e-02, 9.8141807e-01]], dtype=float32)"
      ]
     },
     "execution_count": 49,
     "metadata": {},
     "output_type": "execute_result"
    }
   ],
   "source": [
    "name=[\"sandhya\",\"jaspreet\",\"rajesh\",\"kaveri\",\"aditi deepak\",\"arihant\",\"sasikala\",\"aditi\",\"ragini rajaram\"]\n",
    "X=[]\n",
    "trunc_name = [i[0:maxlen] for i in name]\n",
    "for i in trunc_name:\n",
    "    tmp = [set_flag(char_index[j]) for j in str(i)]\n",
    "    for k in range(0,maxlen - len(str(i))):\n",
    "        tmp.append(set_flag(char_index[\"END\"]))\n",
    "    X.append(tmp)\n",
    "pred=model.predict(np.asarray(X))\n",
    "pred"
   ]
  },
  {
   "cell_type": "code",
   "execution_count": 33,
   "metadata": {},
   "outputs": [
    {
     "data": {
      "text/plain": [
       "array([[0.4178515 , 0.5821485 ],\n",
       "       [0.37405205, 0.62594795],\n",
       "       [0.02188767, 0.9781123 ]], dtype=float32)"
      ]
     },
     "execution_count": 33,
     "metadata": {},
     "output_type": "execute_result"
    }
   ],
   "source": [
    "name=[\"abhi\",\"abhi deepak\",\"mr. abhi\"]\n",
    "X=[]\n",
    "trunc_name = [i[0:maxlen] for i in name]\n",
    "for i in trunc_name:\n",
    "    tmp = [set_flag(char_index[j]) for j in str(i)]\n",
    "    for k in range(0,maxlen - len(str(i))):\n",
    "        tmp.append(set_flag(char_index[\"END\"]))\n",
    "    X.append(tmp)\n",
    "pred=model.predict(np.asarray(X))\n",
    "pred"
   ]
  },
  {
   "cell_type": "code",
   "execution_count": 34,
   "metadata": {},
   "outputs": [
    {
     "data": {
      "text/plain": [
       "array([[0.09026915, 0.90973085],\n",
       "       [0.9785337 , 0.02146639],\n",
       "       [0.03325909, 0.9667409 ]], dtype=float32)"
      ]
     },
     "execution_count": 34,
     "metadata": {},
     "output_type": "execute_result"
    }
   ],
   "source": [
    "name=[\"rajini\",\"rajinikanth\",\"mr. rajini\"]\n",
    "X=[]\n",
    "trunc_name = [i[0:maxlen] for i in name]\n",
    "for i in trunc_name:\n",
    "    tmp = [set_flag(char_index[j]) for j in str(i)]\n",
    "    for k in range(0,maxlen - len(str(i))):\n",
    "        tmp.append(set_flag(char_index[\"END\"]))\n",
    "    X.append(tmp)\n",
    "pred=model.predict(np.asarray(X))\n",
    "pred"
   ]
  },
  {
   "cell_type": "code",
   "execution_count": 35,
   "metadata": {
    "collapsed": true
   },
   "outputs": [],
   "source": [
    "#save our model and data\n",
    "model.save_weights('gender_model',overwrite=True)\n",
    "train.to_csv(\"train_split.csv\")\n",
    "test.to_csv(\"test_split.csv\")"
   ]
  },
  {
   "cell_type": "code",
   "execution_count": 36,
   "metadata": {},
   "outputs": [],
   "source": [
    "evals = model.predict(test_X)\n",
    "prob_m = [i[0] for i in evals]"
   ]
  },
  {
   "cell_type": "code",
   "execution_count": 37,
   "metadata": {},
   "outputs": [],
   "source": [
    "out = pd.DataFrame(prob_m)\n",
    "out['name'] = test.name.reset_index()['name']\n",
    "out['m_or_f']=test.m_or_f.reset_index()['m_or_f']"
   ]
  },
  {
   "cell_type": "code",
   "execution_count": 38,
   "metadata": {},
   "outputs": [],
   "source": [
    "out.head(10)\n",
    "out.columns = ['prob_m','name','actual']\n",
    "out.head(10)\n",
    "out.to_csv(\"gender_pred_out.csv\")"
   ]
  },
  {
   "cell_type": "code",
   "execution_count": 150,
   "metadata": {
    "collapsed": true
   },
   "outputs": [],
   "source": [
    "check = pd.read_csv('name_gender.csv')"
   ]
  },
  {
   "cell_type": "code",
   "execution_count": 151,
   "metadata": {},
   "outputs": [
    {
     "data": {
      "text/plain": [
       "(95026, 3)"
      ]
     },
     "execution_count": 151,
     "metadata": {},
     "output_type": "execute_result"
    }
   ],
   "source": [
    "check.shape"
   ]
  },
  {
   "cell_type": "code",
   "execution_count": 152,
   "metadata": {},
   "outputs": [
    {
     "data": {
      "text/html": [
       "<div>\n",
       "<style scoped>\n",
       "    .dataframe tbody tr th:only-of-type {\n",
       "        vertical-align: middle;\n",
       "    }\n",
       "\n",
       "    .dataframe tbody tr th {\n",
       "        vertical-align: top;\n",
       "    }\n",
       "\n",
       "    .dataframe thead th {\n",
       "        text-align: right;\n",
       "    }\n",
       "</style>\n",
       "<table border=\"1\" class=\"dataframe\">\n",
       "  <thead>\n",
       "    <tr style=\"text-align: right;\">\n",
       "      <th></th>\n",
       "      <th>name</th>\n",
       "      <th>gender</th>\n",
       "      <th>probability</th>\n",
       "    </tr>\n",
       "  </thead>\n",
       "  <tbody>\n",
       "    <tr>\n",
       "      <th>0</th>\n",
       "      <td>Aaban</td>\n",
       "      <td>M</td>\n",
       "      <td>1.0</td>\n",
       "    </tr>\n",
       "    <tr>\n",
       "      <th>1</th>\n",
       "      <td>Aabha</td>\n",
       "      <td>F</td>\n",
       "      <td>1.0</td>\n",
       "    </tr>\n",
       "    <tr>\n",
       "      <th>2</th>\n",
       "      <td>Aabid</td>\n",
       "      <td>M</td>\n",
       "      <td>1.0</td>\n",
       "    </tr>\n",
       "    <tr>\n",
       "      <th>3</th>\n",
       "      <td>Aabriella</td>\n",
       "      <td>F</td>\n",
       "      <td>1.0</td>\n",
       "    </tr>\n",
       "    <tr>\n",
       "      <th>4</th>\n",
       "      <td>Aada</td>\n",
       "      <td>F</td>\n",
       "      <td>1.0</td>\n",
       "    </tr>\n",
       "  </tbody>\n",
       "</table>\n",
       "</div>"
      ],
      "text/plain": [
       "        name gender  probability\n",
       "0      Aaban      M          1.0\n",
       "1      Aabha      F          1.0\n",
       "2      Aabid      M          1.0\n",
       "3  Aabriella      F          1.0\n",
       "4       Aada      F          1.0"
      ]
     },
     "execution_count": 152,
     "metadata": {},
     "output_type": "execute_result"
    }
   ],
   "source": [
    "check.head()\n"
   ]
  },
  {
   "cell_type": "code",
   "execution_count": null,
   "metadata": {},
   "outputs": [],
   "source": [
    "check = check[]"
   ]
  }
 ],
 "metadata": {
  "kernelspec": {
   "display_name": "Python 3",
   "language": "python",
   "name": "python3"
  },
  "language_info": {
   "codemirror_mode": {
    "name": "ipython",
    "version": 3
   },
   "file_extension": ".py",
   "mimetype": "text/x-python",
   "name": "python",
   "nbconvert_exporter": "python",
   "pygments_lexer": "ipython3",
   "version": "3.5.2"
  }
 },
 "nbformat": 4,
 "nbformat_minor": 2
}
